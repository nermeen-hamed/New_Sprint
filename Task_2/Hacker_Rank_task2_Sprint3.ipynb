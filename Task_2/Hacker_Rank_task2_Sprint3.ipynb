{
 "cells": [
  {
   "cell_type": "markdown",
   "id": "9d590b85",
   "metadata": {},
   "source": [
    "# Collection.Counter()"
   ]
  },
  {
   "cell_type": "code",
   "execution_count": 32,
   "id": "3d4ab678",
   "metadata": {
    "ExecuteTime": {
     "end_time": "2022-03-22T11:13:47.837365Z",
     "start_time": "2022-03-22T11:13:30.864132Z"
    }
   },
   "outputs": [
    {
     "name": "stdout",
     "output_type": "stream",
     "text": [
      "10\n",
      "2 3 4 5 6 8 7 6 5 18\n",
      "6\n",
      "6 55\n",
      "6 45\n",
      "6 55\n",
      "4 40\n",
      "18 60\n",
      "10 50\n",
      "200\n"
     ]
    }
   ],
   "source": [
    "import collections\n",
    "from collections import Counter\n",
    "summ=0\n",
    "x=int(input())\n",
    "arr=Counter(map(int,input().split()))\n",
    "N=int(input())\n",
    "for i in range(N):\n",
    "    size,price=map(int,input().split())\n",
    "    if(size in arr and arr[size] > 0):\n",
    "        arr[size]-=1\n",
    "        summ+=price\n",
    "print(summ)"
   ]
  },
  {
   "cell_type": "code",
   "execution_count": null,
   "id": "0ff0d8f2",
   "metadata": {},
   "outputs": [],
   "source": []
  },
  {
   "cell_type": "markdown",
   "id": "4de54350",
   "metadata": {},
   "source": [
    "# defaultdict"
   ]
  },
  {
   "cell_type": "code",
   "execution_count": 19,
   "id": "15808e00",
   "metadata": {
    "ExecuteTime": {
     "end_time": "2022-03-22T13:23:35.239526Z",
     "start_time": "2022-03-22T13:23:26.496571Z"
    }
   },
   "outputs": [
    {
     "name": "stdout",
     "output_type": "stream",
     "text": [
      "5 2\n",
      "a\n",
      "a\n",
      "b\n",
      "a\n",
      "b\n",
      "a\n",
      "b\n",
      "1 2 4\n",
      "3 5\n"
     ]
    }
   ],
   "source": [
    "from collections import defaultdict\n",
    "A=defaultdict(list)\n",
    "B=[]\n",
    "n,m=map(int,input().split())\n",
    "for i in range(1,n+1):\n",
    "    A[input()].append(i)\n",
    "for i in range(1,m+1):\n",
    "    B.append(input())\n",
    "for i in B:\n",
    "    if i in A:\n",
    "        print(*A[i])\n",
    "    else:\n",
    "        print(-1)\n",
    "\n"
   ]
  },
  {
   "cell_type": "code",
   "execution_count": null,
   "id": "e7d0ba9e",
   "metadata": {},
   "outputs": [],
   "source": []
  },
  {
   "cell_type": "markdown",
   "id": "682ef190",
   "metadata": {
    "ExecuteTime": {
     "end_time": "2022-03-22T12:40:04.793006Z",
     "start_time": "2022-03-22T12:40:04.776053Z"
    }
   },
   "source": [
    "# collections.namedtuple()"
   ]
  },
  {
   "cell_type": "code",
   "execution_count": 30,
   "id": "27c2dd51",
   "metadata": {
    "ExecuteTime": {
     "end_time": "2022-03-22T14:07:46.010044Z",
     "start_time": "2022-03-22T14:06:44.409678Z"
    }
   },
   "outputs": [
    {
     "name": "stdout",
     "output_type": "stream",
     "text": [
      "4\n",
      "Class name IDs Marks\n",
      "2\n",
      "1 97 R 7\n",
      "1 50 R 7\n",
      "7.00\n"
     ]
    }
   ],
   "source": [
    "from collections import namedtuple\n",
    "\n",
    "n=int(input())\n",
    "header='\\t'.join(input().split())\n",
    "Student = namedtuple('Student',header)\n",
    "summ=0.00\n",
    "for i in range(n):\n",
    "    student_data=input().split()\n",
    "    student=Student(*student_data)\n",
    "    summ+=float(student.MARKS)\n",
    "print(\"{:.2f}\".format(summ/n))\n"
   ]
  },
  {
   "cell_type": "code",
   "execution_count": null,
   "id": "8a2a19a3",
   "metadata": {},
   "outputs": [],
   "source": []
  },
  {
   "cell_type": "markdown",
   "id": "c67918b3",
   "metadata": {},
   "source": [
    "#  OrderedDict"
   ]
  },
  {
   "cell_type": "code",
   "execution_count": 53,
   "id": "7f732017",
   "metadata": {
    "ExecuteTime": {
     "end_time": "2022-03-22T16:37:48.465156Z",
     "start_time": "2022-03-22T16:37:45.006361Z"
    }
   },
   "outputs": [
    {
     "name": "stdout",
     "output_type": "stream",
     "text": [
      "2\n",
      "BANANA FRIES 12\n",
      "BANANA FRIES 12\n",
      "BANANA FRIES   24\n"
     ]
    }
   ],
   "source": [
    "from collections import OrderedDict\n",
    "ordered_dictionary = OrderedDict()\n",
    "total_price=0\n",
    "n=int(input())\n",
    "for i in range(n):\n",
    "    string=input().split()\n",
    "    name_of_element=\" \".join(string[:-1])\n",
    "    price_of_element=int(string[-1])\n",
    "    if(ordered_dictionary.get(name_of_element)):\n",
    "        ordered_dictionary[name_of_element]+=price_of_element\n",
    "    else:\n",
    "        ordered_dictionary[name_of_element]=price_of_element\n",
    "for key in ordered_dictionary.keys():\n",
    "    print(key,' ',ordered_dictionary[key])\n"
   ]
  },
  {
   "cell_type": "code",
   "execution_count": null,
   "id": "32680862",
   "metadata": {},
   "outputs": [],
   "source": []
  },
  {
   "cell_type": "markdown",
   "id": "1c05ac45",
   "metadata": {},
   "source": [
    "# collections.deque()"
   ]
  },
  {
   "cell_type": "code",
   "execution_count": null,
   "id": "816eaf6c",
   "metadata": {},
   "outputs": [],
   "source": [
    "from collections import deque\n",
    "d = deque()\n",
    "n=int(input())\n",
    "for i in range(n):\n",
    "    string=input().split()\n",
    "    if(string[0]=='append'):\n",
    "        d.append(int(string[1]))\n",
    "    elif(string[0]=='appendleft'):\n",
    "        d.appendleft(int(string[1]))\n",
    "    elif(string[0]=='pop'):\n",
    "        d.pop()\n",
    "    else:\n",
    "        d.popleft()  \n",
    "print (*d,end=' ')"
   ]
  },
  {
   "cell_type": "code",
   "execution_count": null,
   "id": "74d13b5d",
   "metadata": {},
   "outputs": [],
   "source": []
  },
  {
   "cell_type": "markdown",
   "id": "82b4f305",
   "metadata": {},
   "source": [
    "# Word Order"
   ]
  },
  {
   "cell_type": "code",
   "execution_count": 5,
   "id": "12f96886",
   "metadata": {
    "ExecuteTime": {
     "end_time": "2022-03-22T20:45:24.120268Z",
     "start_time": "2022-03-22T20:45:00.565841Z"
    }
   },
   "outputs": [
    {
     "name": "stdout",
     "output_type": "stream",
     "text": [
      "4\n",
      "bcdef\n",
      "abcdefg\n",
      "bcde\n",
      "bcdef\n",
      "3\n",
      "2 1 1 "
     ]
    }
   ],
   "source": [
    "from collections import OrderedDict\n",
    "ordered_dictionary = OrderedDict()\n",
    "n=int(input())\n",
    "counter=0\n",
    "for i in range(n):\n",
    "    string=input()\n",
    "    if(ordered_dictionary.get(string)):\n",
    "        ordered_dictionary[string]+=1\n",
    "    else:\n",
    "        ordered_dictionary[string]=1\n",
    "        counter+=1\n",
    "print(counter)        \n",
    "for key in ordered_dictionary.keys():\n",
    "    print((ordered_dictionary[key]),end=' ')\n"
   ]
  },
  {
   "cell_type": "code",
   "execution_count": null,
   "id": "f8f1951c",
   "metadata": {},
   "outputs": [],
   "source": []
  },
  {
   "cell_type": "markdown",
   "id": "55c7a45a",
   "metadata": {},
   "source": [
    "# Piling up"
   ]
  },
  {
   "cell_type": "code",
   "execution_count": 11,
   "id": "7fca2381",
   "metadata": {
    "ExecuteTime": {
     "end_time": "2022-03-22T20:56:50.822210Z",
     "start_time": "2022-03-22T20:56:42.829119Z"
    }
   },
   "outputs": [
    {
     "name": "stdout",
     "output_type": "stream",
     "text": [
      "aabbbccde\n",
      "a   2\n",
      "b   3\n",
      "c   2\n",
      "d   1\n",
      "e   1\n"
     ]
    }
   ],
   "source": []
  },
  {
   "cell_type": "code",
   "execution_count": null,
   "id": "cb6a73c7",
   "metadata": {},
   "outputs": [],
   "source": []
  },
  {
   "cell_type": "markdown",
   "id": "0c5f1484",
   "metadata": {},
   "source": [
    "# Company Logo"
   ]
  },
  {
   "cell_type": "code",
   "execution_count": 31,
   "id": "bb2567bd",
   "metadata": {
    "ExecuteTime": {
     "end_time": "2022-03-22T21:36:43.246933Z",
     "start_time": "2022-03-22T21:36:38.517456Z"
    }
   },
   "outputs": [
    {
     "name": "stdout",
     "output_type": "stream",
     "text": [
      "abc\n",
      "a 1\n",
      "b 1\n",
      "c 1\n"
     ]
    }
   ],
   "source": [
    "from collections import OrderedDict\n",
    "ordered_dictionary = OrderedDict()\n",
    "n=input()\n",
    "counter=0\n",
    "for i in n:\n",
    "    if(ordered_dictionary.get(i)):\n",
    "        ordered_dictionary[i]+=1\n",
    "    else:\n",
    "        ordered_dictionary[i]=1\n",
    "sorted_list= sorted(ordered_dictionary.items(), key = lambda x: (-x[1], x[0]))[:3]\n",
    "for i in sorted_list:\n",
    "    print(str(i[0])+\" \"+str(i[1]))"
   ]
  },
  {
   "cell_type": "code",
   "execution_count": null,
   "id": "2a5d9727",
   "metadata": {},
   "outputs": [],
   "source": [
    "from collections import Counter\n",
    "ordered_dictionary = OrderedDict()\n",
    "s=input().strip()\n",
    "sub_list=Counter(s)\n",
    "sorted_list = sorted(sub_list.items(), key = lambda x: (-x[1], x[0]))[:3]\n",
    "for i in sorted_list:\n",
    "    print(i[0],' ',i[1])"
   ]
  }
 ],
 "metadata": {
  "kernelspec": {
   "display_name": "Python 3 (ipykernel)",
   "language": "python",
   "name": "python3"
  },
  "language_info": {
   "codemirror_mode": {
    "name": "ipython",
    "version": 3
   },
   "file_extension": ".py",
   "mimetype": "text/x-python",
   "name": "python",
   "nbconvert_exporter": "python",
   "pygments_lexer": "ipython3",
   "version": "3.9.7"
  }
 },
 "nbformat": 4,
 "nbformat_minor": 5
}
