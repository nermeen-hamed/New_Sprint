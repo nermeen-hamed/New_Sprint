{
 "cells": [
  {
   "cell_type": "markdown",
   "id": "fd1e2452",
   "metadata": {},
   "source": [
    "# Iteratools.product()"
   ]
  },
  {
   "cell_type": "code",
   "execution_count": 14,
   "id": "32adfded",
   "metadata": {
    "ExecuteTime": {
     "end_time": "2022-03-21T16:41:58.238619Z",
     "start_time": "2022-03-21T16:41:58.229820Z"
    }
   },
   "outputs": [],
   "source": [
    "import itertools"
   ]
  },
  {
   "cell_type": "code",
   "execution_count": 15,
   "id": "17124af6",
   "metadata": {
    "ExecuteTime": {
     "end_time": "2022-03-21T16:41:58.587484Z",
     "start_time": "2022-03-21T16:41:58.580507Z"
    }
   },
   "outputs": [],
   "source": [
    "def cartisian_product(A,B):\n",
    "    for element in itertools.product(*(A,B)):\n",
    "        print(element,end=\" \")"
   ]
  },
  {
   "cell_type": "code",
   "execution_count": 16,
   "id": "e6c8f73c",
   "metadata": {
    "ExecuteTime": {
     "end_time": "2022-03-21T16:42:07.237388Z",
     "start_time": "2022-03-21T16:41:58.936907Z"
    }
   },
   "outputs": [
    {
     "name": "stdout",
     "output_type": "stream",
     "text": [
      "1 2\n",
      "3 4\n",
      "(1, 3) (1, 4) (2, 3) (2, 4) "
     ]
    }
   ],
   "source": [
    "A=set(map(int,input().split()))\n",
    "B=set(map(int,input().split()))\n",
    "cartisian_product(A,B)"
   ]
  },
  {
   "cell_type": "code",
   "execution_count": null,
   "id": "f52667d9",
   "metadata": {},
   "outputs": [],
   "source": []
  },
  {
   "cell_type": "markdown",
   "id": "a27f8992",
   "metadata": {},
   "source": [
    "# permutations"
   ]
  },
  {
   "cell_type": "code",
   "execution_count": 13,
   "id": "d35a8152",
   "metadata": {
    "ExecuteTime": {
     "end_time": "2022-03-21T16:41:13.659005Z",
     "start_time": "2022-03-21T16:41:06.597143Z"
    }
   },
   "outputs": [
    {
     "name": "stdout",
     "output_type": "stream",
     "text": [
      "HACK 2\n",
      "AC\n",
      "AH\n",
      "AK\n",
      "CA\n",
      "CH\n",
      "CK\n",
      "HA\n",
      "HC\n",
      "HK\n",
      "KA\n",
      "KC\n",
      "KH\n"
     ]
    }
   ],
   "source": [
    "from itertools import permutations\n",
    "string,n = input().split()\n",
    "words = list(permutations(string,int(n)))\n",
    "words = sorted(words, reverse=False)\n",
    "for word in words:\n",
    "    print(*word,sep='')"
   ]
  },
  {
   "cell_type": "code",
   "execution_count": null,
   "id": "73ed8f52",
   "metadata": {},
   "outputs": [],
   "source": []
  },
  {
   "cell_type": "markdown",
   "id": "0eb2ab4c",
   "metadata": {},
   "source": [
    "# Combinations"
   ]
  },
  {
   "cell_type": "code",
   "execution_count": 50,
   "id": "baf4e97b",
   "metadata": {
    "ExecuteTime": {
     "end_time": "2022-03-21T17:57:00.766505Z",
     "start_time": "2022-03-21T17:56:59.095073Z"
    }
   },
   "outputs": [
    {
     "name": "stdout",
     "output_type": "stream",
     "text": [
      "HACK 2\n",
      "A\n",
      "C\n",
      "H\n",
      "K\n",
      "AC\n",
      "AH\n",
      "AK\n",
      "CH\n",
      "CK\n",
      "HK\n"
     ]
    }
   ],
   "source": [
    "from itertools import combinations\n",
    "string,n = input().split()\n",
    "for i in range(1,int(n)+1):\n",
    "    for word in combinations(sorted(string),i):\n",
    "            print(*word,sep='')"
   ]
  },
  {
   "cell_type": "code",
   "execution_count": null,
   "id": "6aa50b09",
   "metadata": {},
   "outputs": [],
   "source": []
  },
  {
   "cell_type": "markdown",
   "id": "ac96c465",
   "metadata": {},
   "source": [
    "# Combinations_with_replacement"
   ]
  },
  {
   "cell_type": "code",
   "execution_count": 53,
   "id": "5bf15a57",
   "metadata": {
    "ExecuteTime": {
     "end_time": "2022-03-21T18:02:24.718683Z",
     "start_time": "2022-03-21T18:02:23.415273Z"
    }
   },
   "outputs": [
    {
     "name": "stdout",
     "output_type": "stream",
     "text": [
      "HACK 2\n",
      "AA\n",
      "AC\n",
      "AH\n",
      "AK\n",
      "CC\n",
      "CH\n",
      "CK\n",
      "HH\n",
      "HK\n",
      "KK\n"
     ]
    }
   ],
   "source": [
    "from itertools import combinations_with_replacement\n",
    "string,n = input().split()\n",
    "for word in combinations_with_replacement(sorted(string),int(n)):\n",
    "    print(*word,sep='')"
   ]
  },
  {
   "cell_type": "code",
   "execution_count": null,
   "id": "5695ff98",
   "metadata": {},
   "outputs": [],
   "source": []
  },
  {
   "cell_type": "markdown",
   "id": "15b6f9e1",
   "metadata": {},
   "source": [
    "# itertools.groupby()"
   ]
  },
  {
   "cell_type": "code",
   "execution_count": 79,
   "id": "7334aa9e",
   "metadata": {
    "ExecuteTime": {
     "end_time": "2022-03-21T19:20:55.865306Z",
     "start_time": "2022-03-21T19:20:54.070544Z"
    }
   },
   "outputs": [
    {
     "name": "stdout",
     "output_type": "stream",
     "text": [
      "1222311\n",
      "(1, 1) (3, 2) (1, 3) (2, 1) "
     ]
    }
   ],
   "source": [
    "import itertools\n",
    "a = input()\n",
    "x = itertools.groupby(a)\n",
    "for k,g in x:\n",
    "    print(tuple([len(list(g)),int(k)]),end=' ')"
   ]
  },
  {
   "cell_type": "code",
   "execution_count": null,
   "id": "56bc2577",
   "metadata": {},
   "outputs": [],
   "source": []
  },
  {
   "cell_type": "markdown",
   "id": "b92840cd",
   "metadata": {
    "ExecuteTime": {
     "end_time": "2022-03-21T22:44:05.740093Z",
     "start_time": "2022-03-21T22:44:05.728736Z"
    }
   },
   "source": [
    "# Iterables and iterators"
   ]
  },
  {
   "cell_type": "code",
   "execution_count": 14,
   "id": "7c65e765",
   "metadata": {
    "ExecuteTime": {
     "end_time": "2022-03-21T22:38:51.982346Z",
     "start_time": "2022-03-21T22:38:46.930260Z"
    }
   },
   "outputs": [
    {
     "name": "stdout",
     "output_type": "stream",
     "text": [
      "4\n",
      "a a c d\n",
      "2\n",
      "0.833\n"
     ]
    }
   ],
   "source": [
    "from itertools import combinations\n",
    "s=int(input())\n",
    "a=input().split()\n",
    "n=int(input())\n",
    "counter=0\n",
    "length=0\n",
    "\n",
    "for i in combinations(a,n):\n",
    "    if('a' in i):\n",
    "        counter+=1\n",
    "        length+=1\n",
    "        \n",
    "    else:\n",
    "        length+=1\n",
    "        continue\n",
    "print(\"{:.3f}\".format(counter/length))\n",
    "    "
   ]
  },
  {
   "cell_type": "code",
   "execution_count": null,
   "id": "7cef3475",
   "metadata": {},
   "outputs": [],
   "source": []
  }
 ],
 "metadata": {
  "kernelspec": {
   "display_name": "Python 3 (ipykernel)",
   "language": "python",
   "name": "python3"
  },
  "language_info": {
   "codemirror_mode": {
    "name": "ipython",
    "version": 3
   },
   "file_extension": ".py",
   "mimetype": "text/x-python",
   "name": "python",
   "nbconvert_exporter": "python",
   "pygments_lexer": "ipython3",
   "version": "3.9.7"
  }
 },
 "nbformat": 4,
 "nbformat_minor": 5
}
