{
 "cells": [
  {
   "cell_type": "markdown",
   "id": "774b65d5",
   "metadata": {},
   "source": [
    "# Detect Floating Point"
   ]
  },
  {
   "cell_type": "code",
   "execution_count": 6,
   "id": "895fc890",
   "metadata": {
    "ExecuteTime": {
     "end_time": "2022-03-23T20:01:56.150354Z",
     "start_time": "2022-03-23T20:01:56.145383Z"
    }
   },
   "outputs": [],
   "source": [
    "import re"
   ]
  },
  {
   "cell_type": "code",
   "execution_count": 5,
   "id": "b29a6041",
   "metadata": {
    "ExecuteTime": {
     "end_time": "2022-03-23T19:55:06.149097Z",
     "start_time": "2022-03-23T19:54:37.292474Z"
    }
   },
   "outputs": [
    {
     "name": "stdout",
     "output_type": "stream",
     "text": [
      "4\n",
      "4.0O0\n",
      "-1.00\n",
      "+4.54\n",
      "SomeRandomStuff\n",
      "False\n",
      "True\n",
      "True\n",
      "False\n"
     ]
    }
   ],
   "source": [
    "regex = '[+-]+[0-9]+\\.[0-9]+'\n",
    "list1=[]\n",
    "n=int(input())\n",
    "for i in range(n):\n",
    "    string=input()\n",
    "    if(re.search(regex,string)):\n",
    "        list1.append('True')\n",
    "    else:\n",
    "        list1.append('False')\n",
    "for i in range(len(list1)):\n",
    "    print(list1[i])"
   ]
  },
  {
   "cell_type": "code",
   "execution_count": null,
   "id": "d02b4b1a",
   "metadata": {},
   "outputs": [],
   "source": []
  },
  {
   "cell_type": "markdown",
   "id": "9354b5ec",
   "metadata": {},
   "source": [
    "# Re.split()"
   ]
  },
  {
   "cell_type": "code",
   "execution_count": 10,
   "id": "56a616c4",
   "metadata": {
    "ExecuteTime": {
     "end_time": "2022-03-23T20:54:10.718434Z",
     "start_time": "2022-03-23T20:53:58.614130Z"
    }
   },
   "outputs": [
    {
     "name": "stdout",
     "output_type": "stream",
     "text": [
      "100,000,000.000\n",
      "100\n",
      "000\n",
      "000\n",
      "000\n"
     ]
    }
   ],
   "source": [
    "regex_pattern = r\"[,.]\"\t# Do not delete 'r'.\n",
    "import re\n",
    "print(\"\\n\".join(re.split(regex_pattern, input())))"
   ]
  },
  {
   "cell_type": "code",
   "execution_count": null,
   "id": "55a8c0a0",
   "metadata": {},
   "outputs": [],
   "source": []
  },
  {
   "cell_type": "markdown",
   "id": "5c65854c",
   "metadata": {},
   "source": [
    "# Group(),Groups(),Groupdict()"
   ]
  },
  {
   "cell_type": "code",
   "execution_count": 14,
   "id": "ceb40466",
   "metadata": {
    "ExecuteTime": {
     "end_time": "2022-03-23T21:11:31.945240Z",
     "start_time": "2022-03-23T21:11:31.931545Z"
    }
   },
   "outputs": [],
   "source": [
    "import re"
   ]
  },
  {
   "cell_type": "code",
   "execution_count": 28,
   "id": "e70221d2",
   "metadata": {
    "ExecuteTime": {
     "end_time": "2022-03-23T21:24:54.175099Z",
     "start_time": "2022-03-23T21:24:52.689946Z"
    }
   },
   "outputs": [
    {
     "name": "stdout",
     "output_type": "stream",
     "text": [
      "..12345678910111213141516171820212223\n",
      "1\n"
     ]
    }
   ],
   "source": [
    "regex_pattern = r\"([a-zA-Z0-9])\\1+\"\n",
    "m=re.search(regex_pattern, input())\n",
    "if m:\n",
    "    print(m.group(1))\n",
    "else:\n",
    "    print(-1)"
   ]
  },
  {
   "cell_type": "code",
   "execution_count": null,
   "id": "168958be",
   "metadata": {},
   "outputs": [],
   "source": []
  },
  {
   "cell_type": "markdown",
   "id": "a2f02fec",
   "metadata": {},
   "source": [
    "# fibonacci_map"
   ]
  },
  {
   "cell_type": "code",
   "execution_count": 28,
   "id": "995df2ab",
   "metadata": {
    "ExecuteTime": {
     "end_time": "2022-03-24T15:47:13.880553Z",
     "start_time": "2022-03-24T15:47:13.875152Z"
    }
   },
   "outputs": [],
   "source": [
    "cube = lambda x: x**3\n",
    "def fibonacci(n):\n",
    "    fibonacci_list=[0,1]\n",
    "    for i in range(2,n):\n",
    "        fibonacci_list.append(fibonacci_list[i-1]+fibonacci_list[i-2])\n",
    "    return fibonacci_list[0:n]"
   ]
  },
  {
   "cell_type": "code",
   "execution_count": 29,
   "id": "7d7a4889",
   "metadata": {
    "ExecuteTime": {
     "end_time": "2022-03-24T15:47:15.068480Z",
     "start_time": "2022-03-24T15:47:14.256667Z"
    }
   },
   "outputs": [
    {
     "name": "stdout",
     "output_type": "stream",
     "text": [
      "1\n",
      "[0]\n"
     ]
    }
   ],
   "source": [
    "n = int(input())\n",
    "print(list(map(cube, fibonacci(n))))"
   ]
  },
  {
   "cell_type": "code",
   "execution_count": null,
   "id": "fb3c4a03",
   "metadata": {},
   "outputs": [],
   "source": []
  },
  {
   "cell_type": "markdown",
   "id": "00b88979",
   "metadata": {},
   "source": [
    "# Email Validation"
   ]
  },
  {
   "cell_type": "code",
   "execution_count": 35,
   "id": "f868a76a",
   "metadata": {
    "ExecuteTime": {
     "end_time": "2022-03-24T16:09:27.298356Z",
     "start_time": "2022-03-24T16:09:27.285359Z"
    }
   },
   "outputs": [],
   "source": [
    "import re\n",
    "def fun(s):\n",
    "    check_list=r'^[A-Za-z0-9_%+-]+@[A-Za-z0-9.-]+\\.[A-Z|a-z]{1,3}$'\n",
    "    if(re.fullmatch(check_list,s)):\n",
    "        return True\n",
    "    else:\n",
    "        return False\n",
    "def filter_mail(emails):\n",
    "    return list(filter(fun, emails))\n"
   ]
  },
  {
   "cell_type": "code",
   "execution_count": 36,
   "id": "e791a0e7",
   "metadata": {
    "ExecuteTime": {
     "end_time": "2022-03-24T16:09:55.881335Z",
     "start_time": "2022-03-24T16:09:28.203450Z"
    }
   },
   "outputs": [
    {
     "name": "stdout",
     "output_type": "stream",
     "text": [
      "5\n",
      "its@gmail.com1\n",
      "mike13445@yahoomail9.server\n",
      "rase23@ha_ch.com\n",
      "daniyal@gmail.coma\n",
      "thatisit@thatisit\n",
      "[]\n"
     ]
    }
   ],
   "source": [
    "n = int(input())\n",
    "emails = []\n",
    "for _ in range(n):\n",
    "    emails.append(input())\n",
    "filtered_emails = filter_mail(emails)\n",
    "filtered_emails.sort()\n",
    "print(filtered_emails)"
   ]
  },
  {
   "cell_type": "code",
   "execution_count": null,
   "id": "bfee4b90",
   "metadata": {},
   "outputs": [],
   "source": []
  },
  {
   "cell_type": "markdown",
   "id": "821a45fc",
   "metadata": {},
   "source": [
    "# Reduce Fanction"
   ]
  },
  {
   "cell_type": "code",
   "execution_count": null,
   "id": "0a567439",
   "metadata": {},
   "outputs": [],
   "source": []
  },
  {
   "cell_type": "code",
   "execution_count": 39,
   "id": "fff05e80",
   "metadata": {
    "ExecuteTime": {
     "end_time": "2022-03-24T16:31:22.883129Z",
     "start_time": "2022-03-24T16:31:22.867174Z"
    }
   },
   "outputs": [],
   "source": [
    "from fractions import Fraction\n",
    "from functools import reduce\n",
    "\n",
    "def product(fracs):\n",
    "    t =reduce(lambda x,y: Fraction(x.numerator*y.numerator,x.denominator*y.denominator),fracs)\n",
    "    return t.numerator, t.denominator"
   ]
  },
  {
   "cell_type": "code",
   "execution_count": 42,
   "id": "54f7bfba",
   "metadata": {
    "ExecuteTime": {
     "end_time": "2022-03-24T16:32:04.865172Z",
     "start_time": "2022-03-24T16:31:56.947156Z"
    }
   },
   "outputs": [
    {
     "name": "stdout",
     "output_type": "stream",
     "text": [
      "3\n",
      "1 2\n",
      "3 4\n",
      "10 16\n",
      "15 64\n"
     ]
    }
   ],
   "source": [
    "fracs = []\n",
    "for _ in range(int(input())):\n",
    "    fracs.append(Fraction(*map(int, input().split())))\n",
    "    result = product(fracs)\n",
    "print(*result)"
   ]
  },
  {
   "cell_type": "markdown",
   "id": "26e9ba22",
   "metadata": {},
   "source": [
    "# Re.find()/Re.findall()"
   ]
  },
  {
   "cell_type": "code",
   "execution_count": null,
   "id": "e1a65caf",
   "metadata": {},
   "outputs": [],
   "source": [
    "import re"
   ]
  },
  {
   "cell_type": "code",
   "execution_count": 60,
   "id": "6fec0148",
   "metadata": {
    "ExecuteTime": {
     "end_time": "2022-03-24T18:30:31.294369Z",
     "start_time": "2022-03-24T18:30:30.029930Z"
    }
   },
   "outputs": [
    {
     "name": "stdout",
     "output_type": "stream",
     "text": [
      "abaabaabaabaaei\n",
      "aa\n",
      "aa\n",
      "aa\n",
      "aaei\n"
     ]
    }
   ],
   "source": [
    "result=re.findall(r\"[aiueoAIUEO]{2,}\", input())\n",
    "if (result):\n",
    "    for i in result:\n",
    "        print(i)\n",
    "else:\n",
    "    print(-1)"
   ]
  },
  {
   "cell_type": "code",
   "execution_count": null,
   "id": "cdc2d1a9",
   "metadata": {},
   "outputs": [],
   "source": []
  },
  {
   "cell_type": "markdown",
   "id": "abb19920",
   "metadata": {},
   "source": [
    "# start() & end()"
   ]
  },
  {
   "cell_type": "code",
   "execution_count": 61,
   "id": "5438c465",
   "metadata": {
    "ExecuteTime": {
     "end_time": "2022-03-24T19:09:24.563860Z",
     "start_time": "2022-03-24T19:09:24.555332Z"
    }
   },
   "outputs": [],
   "source": [
    "import re"
   ]
  },
  {
   "cell_type": "code",
   "execution_count": null,
   "id": "40d82c6b",
   "metadata": {},
   "outputs": [],
   "source": []
  },
  {
   "cell_type": "code",
   "execution_count": 99,
   "id": "5574fc02",
   "metadata": {
    "ExecuteTime": {
     "end_time": "2022-03-24T20:21:27.359357Z",
     "start_time": "2022-03-24T20:21:24.715406Z"
    }
   },
   "outputs": [
    {
     "name": "stdout",
     "output_type": "stream",
     "text": [
      "jjhv\n",
      "z\n",
      "(-1, -1)\n"
     ]
    }
   ],
   "source": [
    "\n",
    "string=input()\n",
    "substring=input()\n",
    "pattern=re.compile(substring)\n",
    "matches=pattern.search(string)\n",
    "if not matches:\n",
    "    print('(-1, -1)')\n",
    "while matches:\n",
    "    print('({0}, {1})'.format(matches.start(),matches.end()-1))\n",
    "    matches = pattern.search(string, matches.start()+1)"
   ]
  },
  {
   "cell_type": "code",
   "execution_count": null,
   "id": "215c6982",
   "metadata": {},
   "outputs": [],
   "source": []
  },
  {
   "cell_type": "code",
   "execution_count": null,
   "id": "8ef74944",
   "metadata": {},
   "outputs": [],
   "source": []
  }
 ],
 "metadata": {
  "kernelspec": {
   "display_name": "Python 3 (ipykernel)",
   "language": "python",
   "name": "python3"
  },
  "language_info": {
   "codemirror_mode": {
    "name": "ipython",
    "version": 3
   },
   "file_extension": ".py",
   "mimetype": "text/x-python",
   "name": "python",
   "nbconvert_exporter": "python",
   "pygments_lexer": "ipython3",
   "version": "3.9.7"
  }
 },
 "nbformat": 4,
 "nbformat_minor": 5
}
