{
 "cells": [
  {
   "cell_type": "markdown",
   "id": "8731a404",
   "metadata": {},
   "source": [
    "# Calander Module"
   ]
  },
  {
   "cell_type": "code",
   "execution_count": 25,
   "id": "60a911a7",
   "metadata": {
    "ExecuteTime": {
     "end_time": "2022-03-23T16:26:09.881352Z",
     "start_time": "2022-03-23T16:26:09.876159Z"
    }
   },
   "outputs": [],
   "source": [
    "import calendar"
   ]
  },
  {
   "cell_type": "code",
   "execution_count": 28,
   "id": "97f7c19f",
   "metadata": {
    "ExecuteTime": {
     "end_time": "2022-03-23T16:26:35.695613Z",
     "start_time": "2022-03-23T16:26:34.424377Z"
    }
   },
   "outputs": [
    {
     "name": "stdout",
     "output_type": "stream",
     "text": [
      "08 05 2015\n",
      "WEDNESDAY\n"
     ]
    }
   ],
   "source": [
    "month_day,day_date,year=map(int,input().split())\n",
    "print(calendar.day_name[calendar.weekday(year,month_day,day_date)].upper())"
   ]
  },
  {
   "cell_type": "code",
   "execution_count": null,
   "id": "9ea853db",
   "metadata": {},
   "outputs": [],
   "source": []
  },
  {
   "cell_type": "markdown",
   "id": "b6472290",
   "metadata": {},
   "source": [
    "# Time Delta"
   ]
  },
  {
   "cell_type": "code",
   "execution_count": 22,
   "id": "f526055b",
   "metadata": {
    "ExecuteTime": {
     "end_time": "2022-03-23T16:25:14.190975Z",
     "start_time": "2022-03-23T16:25:14.184376Z"
    }
   },
   "outputs": [],
   "source": [
    "from datetime import datetime"
   ]
  },
  {
   "cell_type": "code",
   "execution_count": 29,
   "id": "01caf65e",
   "metadata": {
    "ExecuteTime": {
     "end_time": "2022-03-23T16:29:06.056736Z",
     "start_time": "2022-03-23T16:28:44.654800Z"
    }
   },
   "outputs": [
    {
     "name": "stdout",
     "output_type": "stream",
     "text": [
      "1\n",
      "Sun 10 May 2015 13:54:36 -0700\n",
      "Sun 10 May 2015 13:54:36 -0000\n",
      "25200\n"
     ]
    }
   ],
   "source": [
    "diff=[]\n",
    "n=int(input())\n",
    "for i in range(n):\n",
    "    t1=datetime.strptime(input(),'%a %d %b %Y %H:%M:%S %z')\n",
    "    t2=datetime.strptime(input(),'%a %d %b %Y %H:%M:%S %z')\n",
    "    diff.append(int(abs((t1-t2).total_seconds())))\n",
    "for i in range(0,len(diff)):\n",
    "    print(diff[i])"
   ]
  },
  {
   "cell_type": "code",
   "execution_count": null,
   "id": "3970b5a3",
   "metadata": {},
   "outputs": [],
   "source": []
  }
 ],
 "metadata": {
  "kernelspec": {
   "display_name": "Python 3 (ipykernel)",
   "language": "python",
   "name": "python3"
  },
  "language_info": {
   "codemirror_mode": {
    "name": "ipython",
    "version": 3
   },
   "file_extension": ".py",
   "mimetype": "text/x-python",
   "name": "python",
   "nbconvert_exporter": "python",
   "pygments_lexer": "ipython3",
   "version": "3.9.7"
  }
 },
 "nbformat": 4,
 "nbformat_minor": 5
}
